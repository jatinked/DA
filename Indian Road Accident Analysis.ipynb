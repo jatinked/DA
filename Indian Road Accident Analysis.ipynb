{
 "cells": [
  {
   "cell_type": "code",
   "execution_count": 140,
   "id": "cb7d0506-70fc-4aba-9b68-0ff17a66e042",
   "metadata": {
    "tags": []
   },
   "outputs": [],
   "source": [
    "import numpy as np\n",
    "import pandas as pd"
   ]
  },
  {
   "cell_type": "code",
   "execution_count": 142,
   "id": "4dc3db4f-019a-4baf-96ad-7985ac224e98",
   "metadata": {
    "tags": []
   },
   "outputs": [],
   "source": [
    "df = pd.read_csv(r'accident_prediction_india.csv')"
   ]
  },
  {
   "cell_type": "code",
   "execution_count": 145,
   "id": "dd340d78-70b9-4853-91a5-73b64cac9a75",
   "metadata": {
    "tags": []
   },
   "outputs": [
    {
     "data": {
      "text/html": [
       "<div>\n",
       "<style scoped>\n",
       "    .dataframe tbody tr th:only-of-type {\n",
       "        vertical-align: middle;\n",
       "    }\n",
       "\n",
       "    .dataframe tbody tr th {\n",
       "        vertical-align: top;\n",
       "    }\n",
       "\n",
       "    .dataframe thead th {\n",
       "        text-align: right;\n",
       "    }\n",
       "</style>\n",
       "<table border=\"1\" class=\"dataframe\">\n",
       "  <thead>\n",
       "    <tr style=\"text-align: right;\">\n",
       "      <th></th>\n",
       "      <th>count</th>\n",
       "      <th>mean</th>\n",
       "      <th>std</th>\n",
       "      <th>min</th>\n",
       "      <th>25%</th>\n",
       "      <th>50%</th>\n",
       "      <th>75%</th>\n",
       "      <th>max</th>\n",
       "    </tr>\n",
       "  </thead>\n",
       "  <tbody>\n",
       "    <tr>\n",
       "      <th>Year</th>\n",
       "      <td>3000.0</td>\n",
       "      <td>2020.530000</td>\n",
       "      <td>1.683858</td>\n",
       "      <td>2018.0</td>\n",
       "      <td>2019.0</td>\n",
       "      <td>2021.0</td>\n",
       "      <td>2022.0</td>\n",
       "      <td>2023.0</td>\n",
       "    </tr>\n",
       "    <tr>\n",
       "      <th>Number of Vehicles Involved</th>\n",
       "      <td>3000.0</td>\n",
       "      <td>2.996000</td>\n",
       "      <td>1.428285</td>\n",
       "      <td>1.0</td>\n",
       "      <td>2.0</td>\n",
       "      <td>3.0</td>\n",
       "      <td>4.0</td>\n",
       "      <td>5.0</td>\n",
       "    </tr>\n",
       "    <tr>\n",
       "      <th>Number of Casualties</th>\n",
       "      <td>3000.0</td>\n",
       "      <td>5.066000</td>\n",
       "      <td>3.214097</td>\n",
       "      <td>0.0</td>\n",
       "      <td>2.0</td>\n",
       "      <td>5.0</td>\n",
       "      <td>8.0</td>\n",
       "      <td>10.0</td>\n",
       "    </tr>\n",
       "    <tr>\n",
       "      <th>Number of Fatalities</th>\n",
       "      <td>3000.0</td>\n",
       "      <td>2.455333</td>\n",
       "      <td>1.717650</td>\n",
       "      <td>0.0</td>\n",
       "      <td>1.0</td>\n",
       "      <td>2.0</td>\n",
       "      <td>4.0</td>\n",
       "      <td>5.0</td>\n",
       "    </tr>\n",
       "    <tr>\n",
       "      <th>Speed Limit (km/h)</th>\n",
       "      <td>3000.0</td>\n",
       "      <td>74.940667</td>\n",
       "      <td>26.765088</td>\n",
       "      <td>30.0</td>\n",
       "      <td>51.0</td>\n",
       "      <td>75.0</td>\n",
       "      <td>99.0</td>\n",
       "      <td>120.0</td>\n",
       "    </tr>\n",
       "    <tr>\n",
       "      <th>Driver Age</th>\n",
       "      <td>3000.0</td>\n",
       "      <td>44.177000</td>\n",
       "      <td>15.402860</td>\n",
       "      <td>18.0</td>\n",
       "      <td>31.0</td>\n",
       "      <td>45.0</td>\n",
       "      <td>57.0</td>\n",
       "      <td>70.0</td>\n",
       "    </tr>\n",
       "  </tbody>\n",
       "</table>\n",
       "</div>"
      ],
      "text/plain": [
       "                              count         mean        std     min     25%  \\\n",
       "Year                         3000.0  2020.530000   1.683858  2018.0  2019.0   \n",
       "Number of Vehicles Involved  3000.0     2.996000   1.428285     1.0     2.0   \n",
       "Number of Casualties         3000.0     5.066000   3.214097     0.0     2.0   \n",
       "Number of Fatalities         3000.0     2.455333   1.717650     0.0     1.0   \n",
       "Speed Limit (km/h)           3000.0    74.940667  26.765088    30.0    51.0   \n",
       "Driver Age                   3000.0    44.177000  15.402860    18.0    31.0   \n",
       "\n",
       "                                50%     75%     max  \n",
       "Year                         2021.0  2022.0  2023.0  \n",
       "Number of Vehicles Involved     3.0     4.0     5.0  \n",
       "Number of Casualties            5.0     8.0    10.0  \n",
       "Number of Fatalities            2.0     4.0     5.0  \n",
       "Speed Limit (km/h)             75.0    99.0   120.0  \n",
       "Driver Age                     45.0    57.0    70.0  "
      ]
     },
     "execution_count": 145,
     "metadata": {},
     "output_type": "execute_result"
    }
   ],
   "source": [
    "df.describe().T"
   ]
  },
  {
   "cell_type": "code",
   "execution_count": 147,
   "id": "bb3e4f1c-2e1c-46f5-b7d1-5c85a2e1befd",
   "metadata": {
    "tags": []
   },
   "outputs": [
    {
     "data": {
      "text/html": [
       "<div>\n",
       "<style scoped>\n",
       "    .dataframe tbody tr th:only-of-type {\n",
       "        vertical-align: middle;\n",
       "    }\n",
       "\n",
       "    .dataframe tbody tr th {\n",
       "        vertical-align: top;\n",
       "    }\n",
       "\n",
       "    .dataframe thead th {\n",
       "        text-align: right;\n",
       "    }\n",
       "</style>\n",
       "<table border=\"1\" class=\"dataframe\">\n",
       "  <thead>\n",
       "    <tr style=\"text-align: right;\">\n",
       "      <th></th>\n",
       "      <th>count</th>\n",
       "      <th>unique</th>\n",
       "      <th>top</th>\n",
       "      <th>freq</th>\n",
       "    </tr>\n",
       "  </thead>\n",
       "  <tbody>\n",
       "    <tr>\n",
       "      <th>State Name</th>\n",
       "      <td>3000</td>\n",
       "      <td>32</td>\n",
       "      <td>Goa</td>\n",
       "      <td>109</td>\n",
       "    </tr>\n",
       "    <tr>\n",
       "      <th>City Name</th>\n",
       "      <td>3000</td>\n",
       "      <td>28</td>\n",
       "      <td>Unknown</td>\n",
       "      <td>2138</td>\n",
       "    </tr>\n",
       "    <tr>\n",
       "      <th>Month</th>\n",
       "      <td>3000</td>\n",
       "      <td>12</td>\n",
       "      <td>March</td>\n",
       "      <td>266</td>\n",
       "    </tr>\n",
       "    <tr>\n",
       "      <th>Day of Week</th>\n",
       "      <td>3000</td>\n",
       "      <td>7</td>\n",
       "      <td>Wednesday</td>\n",
       "      <td>468</td>\n",
       "    </tr>\n",
       "    <tr>\n",
       "      <th>Time of Day</th>\n",
       "      <td>3000</td>\n",
       "      <td>1263</td>\n",
       "      <td>8:34</td>\n",
       "      <td>7</td>\n",
       "    </tr>\n",
       "    <tr>\n",
       "      <th>Accident Severity</th>\n",
       "      <td>3000</td>\n",
       "      <td>3</td>\n",
       "      <td>Minor</td>\n",
       "      <td>1034</td>\n",
       "    </tr>\n",
       "    <tr>\n",
       "      <th>Vehicle Type Involved</th>\n",
       "      <td>3000</td>\n",
       "      <td>7</td>\n",
       "      <td>Truck</td>\n",
       "      <td>449</td>\n",
       "    </tr>\n",
       "    <tr>\n",
       "      <th>Weather Conditions</th>\n",
       "      <td>3000</td>\n",
       "      <td>5</td>\n",
       "      <td>Rainy</td>\n",
       "      <td>631</td>\n",
       "    </tr>\n",
       "    <tr>\n",
       "      <th>Road Type</th>\n",
       "      <td>3000</td>\n",
       "      <td>4</td>\n",
       "      <td>State Highway</td>\n",
       "      <td>771</td>\n",
       "    </tr>\n",
       "    <tr>\n",
       "      <th>Road Condition</th>\n",
       "      <td>3000</td>\n",
       "      <td>4</td>\n",
       "      <td>Under Construction</td>\n",
       "      <td>778</td>\n",
       "    </tr>\n",
       "    <tr>\n",
       "      <th>Lighting Conditions</th>\n",
       "      <td>3000</td>\n",
       "      <td>4</td>\n",
       "      <td>Dark</td>\n",
       "      <td>763</td>\n",
       "    </tr>\n",
       "    <tr>\n",
       "      <th>Traffic Control Presence</th>\n",
       "      <td>2284</td>\n",
       "      <td>3</td>\n",
       "      <td>Signs</td>\n",
       "      <td>812</td>\n",
       "    </tr>\n",
       "    <tr>\n",
       "      <th>Driver Gender</th>\n",
       "      <td>3000</td>\n",
       "      <td>2</td>\n",
       "      <td>Female</td>\n",
       "      <td>1563</td>\n",
       "    </tr>\n",
       "    <tr>\n",
       "      <th>Driver License Status</th>\n",
       "      <td>2025</td>\n",
       "      <td>2</td>\n",
       "      <td>Valid</td>\n",
       "      <td>1057</td>\n",
       "    </tr>\n",
       "    <tr>\n",
       "      <th>Alcohol Involvement</th>\n",
       "      <td>3000</td>\n",
       "      <td>2</td>\n",
       "      <td>Yes</td>\n",
       "      <td>1520</td>\n",
       "    </tr>\n",
       "    <tr>\n",
       "      <th>Accident Location Details</th>\n",
       "      <td>3000</td>\n",
       "      <td>4</td>\n",
       "      <td>Intersection</td>\n",
       "      <td>789</td>\n",
       "    </tr>\n",
       "  </tbody>\n",
       "</table>\n",
       "</div>"
      ],
      "text/plain": [
       "                          count unique                 top  freq\n",
       "State Name                 3000     32                 Goa   109\n",
       "City Name                  3000     28             Unknown  2138\n",
       "Month                      3000     12               March   266\n",
       "Day of Week                3000      7           Wednesday   468\n",
       "Time of Day                3000   1263                8:34     7\n",
       "Accident Severity          3000      3               Minor  1034\n",
       "Vehicle Type Involved      3000      7               Truck   449\n",
       "Weather Conditions         3000      5               Rainy   631\n",
       "Road Type                  3000      4       State Highway   771\n",
       "Road Condition             3000      4  Under Construction   778\n",
       "Lighting Conditions        3000      4                Dark   763\n",
       "Traffic Control Presence   2284      3               Signs   812\n",
       "Driver Gender              3000      2              Female  1563\n",
       "Driver License Status      2025      2               Valid  1057\n",
       "Alcohol Involvement        3000      2                 Yes  1520\n",
       "Accident Location Details  3000      4        Intersection   789"
      ]
     },
     "execution_count": 147,
     "metadata": {},
     "output_type": "execute_result"
    }
   ],
   "source": [
    "df.describe(include='object').T"
   ]
  },
  {
   "cell_type": "code",
   "execution_count": 148,
   "id": "1953042e-256e-4b86-89bf-bb71916a3822",
   "metadata": {
    "tags": []
   },
   "outputs": [
    {
     "name": "stdout",
     "output_type": "stream",
     "text": [
      "<class 'pandas.core.frame.DataFrame'>\n",
      "RangeIndex: 3000 entries, 0 to 2999\n",
      "Data columns (total 22 columns):\n",
      " #   Column                       Non-Null Count  Dtype \n",
      "---  ------                       --------------  ----- \n",
      " 0   State Name                   3000 non-null   object\n",
      " 1   City Name                    3000 non-null   object\n",
      " 2   Year                         3000 non-null   int64 \n",
      " 3   Month                        3000 non-null   object\n",
      " 4   Day of Week                  3000 non-null   object\n",
      " 5   Time of Day                  3000 non-null   object\n",
      " 6   Accident Severity            3000 non-null   object\n",
      " 7   Number of Vehicles Involved  3000 non-null   int64 \n",
      " 8   Vehicle Type Involved        3000 non-null   object\n",
      " 9   Number of Casualties         3000 non-null   int64 \n",
      " 10  Number of Fatalities         3000 non-null   int64 \n",
      " 11  Weather Conditions           3000 non-null   object\n",
      " 12  Road Type                    3000 non-null   object\n",
      " 13  Road Condition               3000 non-null   object\n",
      " 14  Lighting Conditions          3000 non-null   object\n",
      " 15  Traffic Control Presence     2284 non-null   object\n",
      " 16  Speed Limit (km/h)           3000 non-null   int64 \n",
      " 17  Driver Age                   3000 non-null   int64 \n",
      " 18  Driver Gender                3000 non-null   object\n",
      " 19  Driver License Status        2025 non-null   object\n",
      " 20  Alcohol Involvement          3000 non-null   object\n",
      " 21  Accident Location Details    3000 non-null   object\n",
      "dtypes: int64(6), object(16)\n",
      "memory usage: 515.8+ KB\n"
     ]
    }
   ],
   "source": [
    "df.info()"
   ]
  },
  {
   "cell_type": "code",
   "execution_count": 150,
   "id": "68dbbbec-07fa-4cfe-8e84-e14630bfa5b0",
   "metadata": {},
   "outputs": [
    {
     "data": {
      "text/plain": [
       "State Name                       0\n",
       "City Name                        0\n",
       "Year                             0\n",
       "Month                            0\n",
       "Day of Week                      0\n",
       "Time of Day                      0\n",
       "Accident Severity                0\n",
       "Number of Vehicles Involved      0\n",
       "Vehicle Type Involved            0\n",
       "Number of Casualties             0\n",
       "Number of Fatalities             0\n",
       "Weather Conditions               0\n",
       "Road Type                        0\n",
       "Road Condition                   0\n",
       "Lighting Conditions              0\n",
       "Traffic Control Presence       716\n",
       "Speed Limit (km/h)               0\n",
       "Driver Age                       0\n",
       "Driver Gender                    0\n",
       "Driver License Status          975\n",
       "Alcohol Involvement              0\n",
       "Accident Location Details        0\n",
       "dtype: int64"
      ]
     },
     "execution_count": 150,
     "metadata": {},
     "output_type": "execute_result"
    }
   ],
   "source": [
    "df.isnull().sum()"
   ]
  },
  {
   "cell_type": "code",
   "execution_count": 151,
   "id": "247c9148-c6a1-44b2-b8cd-85cc454aa5a4",
   "metadata": {
    "tags": []
   },
   "outputs": [
    {
     "name": "stdout",
     "output_type": "stream",
     "text": [
      "Signs: 812\n",
      "Signals: 736\n",
      "Police Checkpost: 736\n"
     ]
    }
   ],
   "source": [
    "value_counts = df['Traffic Control Presence'].value_counts()\n",
    "\n",
    "for i, c in value_counts.items():\n",
    "    print(f\"{i}: {c}\")"
   ]
  },
  {
   "cell_type": "code",
   "execution_count": 154,
   "id": "45df18b6-1087-4a1a-8bd4-fa31cc0f786e",
   "metadata": {},
   "outputs": [
    {
     "name": "stdout",
     "output_type": "stream",
     "text": [
      "Valid: 1057\n",
      "Expired: 968\n"
     ]
    }
   ],
   "source": [
    "value_counts = df['Driver License Status'].value_counts()\n",
    "\n",
    "for i, c in value_counts.items():\n",
    "    print(f\"{i}: {c}\")"
   ]
  },
  {
   "cell_type": "code",
   "execution_count": 155,
   "id": "55ef023f-399f-482c-91d1-eee951e45216",
   "metadata": {
    "tags": []
   },
   "outputs": [],
   "source": [
    "df.dropna(inplace=True)"
   ]
  },
  {
   "cell_type": "code",
   "execution_count": 157,
   "id": "ae87f466-3299-4574-8dda-2cd8cf7b8d7d",
   "metadata": {
    "tags": []
   },
   "outputs": [],
   "source": [
    "#df['Traffic Control Presence'].fillna('Unknown', inplace=True)\n",
    "#df['Driver License Status'].fillna('Unknown', inplace=True)"
   ]
  },
  {
   "cell_type": "code",
   "execution_count": 159,
   "id": "2e4ae50a-8046-4912-99a5-74884789dae5",
   "metadata": {
    "tags": []
   },
   "outputs": [
    {
     "data": {
      "text/plain": [
       "0"
      ]
     },
     "execution_count": 159,
     "metadata": {},
     "output_type": "execute_result"
    }
   ],
   "source": [
    "df.isnull().sum().sum()"
   ]
  },
  {
   "cell_type": "code",
   "execution_count": 160,
   "id": "437c7b65-9722-4167-bb03-a010f3ecc23d",
   "metadata": {
    "tags": []
   },
   "outputs": [
    {
     "data": {
      "text/plain": [
       "Accident Severity\n",
       "Fatal      44.174157\n",
       "Minor      44.728653\n",
       "Serious    43.434524\n",
       "Name: Driver Age, dtype: float64"
      ]
     },
     "execution_count": 160,
     "metadata": {},
     "output_type": "execute_result"
    }
   ],
   "source": [
    "df.groupby('Accident Severity')['Driver Age'].mean()"
   ]
  },
  {
   "cell_type": "code",
   "execution_count": 162,
   "id": "9b3cbb8d-9087-4044-b852-c663ae4f7ca2",
   "metadata": {
    "tags": []
   },
   "outputs": [
    {
     "data": {
      "text/plain": [
       "Lighting Conditions\n",
       "Dark        75.248082\n",
       "Dawn        74.849490\n",
       "Daylight    73.237333\n",
       "Dusk        73.646192\n",
       "Name: Speed Limit (km/h), dtype: float64"
      ]
     },
     "execution_count": 162,
     "metadata": {},
     "output_type": "execute_result"
    }
   ],
   "source": [
    "df.groupby('Lighting Conditions')['Speed Limit (km/h)'].mean()"
   ]
  },
  {
   "cell_type": "code",
   "execution_count": 228,
   "id": "84421dd8-6930-402e-af46-111250fb893c",
   "metadata": {
    "tags": []
   },
   "outputs": [
    {
     "data": {
      "text/plain": [
       "<Axes: xlabel='Year', ylabel='count'>"
      ]
     },
     "execution_count": 228,
     "metadata": {},
     "output_type": "execute_result"
    },
    {
     "data": {
      "image/png": "[encoded data removed]",
      "text/plain": [
       "<Figure size 1000x500 with 1 Axes>"
      ]
     },
     "metadata": {},
     "output_type": "display_data"
    }
   ],
   "source": [
    "plt.figure(figsize=(10,5))\n",
    "sns.lineplot(df.groupby(['Year','Accident Severity']).size().reset_index(name='count'), x = 'Year', y = 'count',  hue='Accident Severity')"
   ]
  },
  {
   "cell_type": "code",
   "execution_count": 168,
   "id": "a85b7ee8-9817-4359-910a-453b8dac67db",
   "metadata": {
    "tags": []
   },
   "outputs": [],
   "source": [
    "df['Time in Hours'] = df['Time of Day'].apply(lambda x: int(x.split(':')[0]) + int(x.split(':')[1]) / 60)"
   ]
  },
  {
   "cell_type": "code",
   "execution_count": 170,
   "id": "7f036136-b971-4bb6-8da9-50885cbbc48a",
   "metadata": {
    "tags": []
   },
   "outputs": [
    {
     "data": {
      "text/plain": [
       "3        0.52\n",
       "5        8.07\n",
       "7       11.67\n",
       "8        8.43\n",
       "13       6.78\n",
       "        ...  \n",
       "2993     2.12\n",
       "2994    10.78\n",
       "2995     1.25\n",
       "2997    19.57\n",
       "2998    20.90\n",
       "Name: Time in Hours, Length: 1565, dtype: float64"
      ]
     },
     "execution_count": 170,
     "metadata": {},
     "output_type": "execute_result"
    }
   ],
   "source": [
    "df['Time in Hours'].round(2)"
   ]
  },
  {
   "cell_type": "code",
   "execution_count": 171,
   "id": "0b2e9b12-2677-45fa-906a-e582ca67cdc1",
   "metadata": {},
   "outputs": [
    {
     "name": "stdout",
     "output_type": "stream",
     "text": [
      "State Name\n",
      "Uttarakhand          59\n",
      "Karnataka            57\n",
      "Puducherry           56\n",
      "Haryana              55\n",
      "Goa                  55\n",
      "Nagaland             54\n",
      "Sikkim               54\n",
      "Maharashtra          54\n",
      "Delhi                53\n",
      "Jammu and Kashmir    53\n",
      "Kerala               52\n",
      "Odisha               51\n",
      "Rajasthan            51\n",
      "Manipur              50\n",
      "Telangana            49\n",
      "Gujarat              49\n",
      "West Bengal          49\n",
      "Jharkhand            48\n",
      "Himachal Pradesh     48\n",
      "Tamil Nadu           46\n",
      "Punjab               46\n",
      "Uttar Pradesh        46\n",
      "Assam                46\n",
      "Chhattisgarh         46\n",
      "Tripura              45\n",
      "Meghalaya            45\n",
      "Bihar                43\n",
      "Mizoram              43\n",
      "Chandigarh           42\n",
      "Andhra Pradesh       41\n",
      "Madhya Pradesh       41\n",
      "Arunachal Pradesh    38\n",
      "Name: count, dtype: int64\n",
      "*************************************\n",
      "City Name\n",
      "Unknown          1119\n",
      "Bangalore          22\n",
      "Jodhpur            20\n",
      "Mysore             20\n",
      "New Delhi          20\n",
      "Nagpur             19\n",
      "Dwarka             19\n",
      "Lucknow            18\n",
      "Vadodara           18\n",
      "Mumbai             18\n",
      "Surat              18\n",
      "Jaipur             18\n",
      "Pune               17\n",
      "Kolkata            17\n",
      "Madurai            17\n",
      "Siliguri           17\n",
      "Vijayawada         17\n",
      "Mangalore          15\n",
      "Durgapur           15\n",
      "Coimbatore         15\n",
      "Rohini             14\n",
      "Kanpur             14\n",
      "Chennai            14\n",
      "Varanasi           14\n",
      "Tirupati           14\n",
      "Ahmedabad          13\n",
      "Udaipur            13\n",
      "Visakhapatnam      10\n",
      "Name: count, dtype: int64\n",
      "*************************************\n",
      "Month\n",
      "June         146\n",
      "October      146\n",
      "December     138\n",
      "March        137\n",
      "August       134\n",
      "July         132\n",
      "January      128\n",
      "May          123\n",
      "September    122\n",
      "April        121\n",
      "November     119\n",
      "February     119\n",
      "Name: count, dtype: int64\n",
      "*************************************\n",
      "Day of Week\n",
      "Wednesday    233\n",
      "Monday       230\n",
      "Friday       226\n",
      "Sunday       226\n",
      "Thursday     224\n",
      "Saturday     217\n",
      "Tuesday      209\n",
      "Name: count, dtype: int64\n",
      "*************************************\n",
      "Time of Day\n",
      "5:29     5\n",
      "4:24     5\n",
      "5:53     5\n",
      "15:42    5\n",
      "9:39     4\n",
      "        ..\n",
      "8:4      1\n",
      "10:7     1\n",
      "3:41     1\n",
      "20:46    1\n",
      "20:54    1\n",
      "Name: count, Length: 960, dtype: int64\n",
      "*************************************\n",
      "Accident Severity\n",
      "Fatal      534\n",
      "Minor      527\n",
      "Serious    504\n",
      "Name: count, dtype: int64\n",
      "*************************************\n",
      "Vehicle Type Involved\n",
      "Auto-Rickshaw    244\n",
      "Truck            242\n",
      "Cycle            239\n",
      "Bus              226\n",
      "Pedestrian       209\n",
      "Car              203\n",
      "Two-Wheeler      202\n",
      "Name: count, dtype: int64\n",
      "*************************************\n",
      "Weather Conditions\n",
      "Rainy     338\n",
      "Stormy    331\n",
      "Clear     308\n",
      "Hazy      305\n",
      "Foggy     283\n",
      "Name: count, dtype: int64\n",
      "*************************************\n",
      "Road Type\n",
      "Village Road        415\n",
      "State Highway       403\n",
      "National Highway    386\n",
      "Urban Road          361\n",
      "Name: count, dtype: int64\n",
      "*************************************\n",
      "Road Condition\n",
      "Wet                   410\n",
      "Under Construction    401\n",
      "Dry                   399\n",
      "Damaged               355\n",
      "Name: count, dtype: int64\n",
      "*************************************\n",
      "Lighting Conditions\n",
      "Dusk        407\n",
      "Dawn        392\n",
      "Dark        391\n",
      "Daylight    375\n",
      "Name: count, dtype: int64\n",
      "*************************************\n",
      "Traffic Control Presence\n",
      "Signs               550\n",
      "Police Checkpost    510\n",
      "Signals             505\n",
      "Name: count, dtype: int64\n",
      "*************************************\n",
      "Driver Gender\n",
      "Female    822\n",
      "Male      743\n",
      "Name: count, dtype: int64\n",
      "*************************************\n",
      "Driver License Status\n",
      "Valid      822\n",
      "Expired    743\n",
      "Name: count, dtype: int64\n",
      "*************************************\n",
      "Alcohol Involvement\n",
      "Yes    786\n",
      "No     779\n",
      "Name: count, dtype: int64\n",
      "*************************************\n",
      "Accident Location Details\n",
      "Intersection     410\n",
      "Bridge           394\n",
      "Straight Road    386\n",
      "Curve            375\n",
      "Name: count, dtype: int64\n",
      "*************************************\n"
     ]
    }
   ],
   "source": [
    "for i in df.columns:\n",
    "    if df[i].dtypes == 'object':\n",
    "        print(df[i].value_counts())\n",
    "        print('*************************************')"
   ]
  },
  {
   "cell_type": "code",
   "execution_count": 174,
   "id": "c0b095ab-65a8-491b-9c64-77ee08146660",
   "metadata": {
    "tags": []
   },
   "outputs": [],
   "source": [
    "def assign_time_segment(hour):\n",
    "    if 5 <= hour < 12:\n",
    "        return 'Morning'\n",
    "    elif 12 <= hour < 17:\n",
    "        return 'Afternoon'\n",
    "    elif 17 <= hour < 21:\n",
    "        return 'Evening'\n",
    "    else:\n",
    "        return 'Night'\n",
    "\n",
    "# Apply function to the column\n",
    "df['Time Segment'] = df['Time in Hours'].apply(assign_time_segment)\n"
   ]
  },
  {
   "cell_type": "code",
   "execution_count": 176,
   "id": "1b0e6385-5a30-4b33-a1cc-d67b8ee6ecac",
   "metadata": {
    "tags": []
   },
   "outputs": [
    {
     "data": {
      "text/html": [
       "<div>\n",
       "<style scoped>\n",
       "    .dataframe tbody tr th:only-of-type {\n",
       "        vertical-align: middle;\n",
       "    }\n",
       "\n",
       "    .dataframe tbody tr th {\n",
       "        vertical-align: top;\n",
       "    }\n",
       "\n",
       "    .dataframe thead th {\n",
       "        text-align: right;\n",
       "    }\n",
       "</style>\n",
       "<table border=\"1\" class=\"dataframe\">\n",
       "  <thead>\n",
       "    <tr style=\"text-align: right;\">\n",
       "      <th></th>\n",
       "      <th>Time Segment</th>\n",
       "      <th>Time in Hours</th>\n",
       "    </tr>\n",
       "  </thead>\n",
       "  <tbody>\n",
       "    <tr>\n",
       "      <th>3</th>\n",
       "      <td>Night</td>\n",
       "      <td>0.516667</td>\n",
       "    </tr>\n",
       "    <tr>\n",
       "      <th>5</th>\n",
       "      <td>Morning</td>\n",
       "      <td>8.066667</td>\n",
       "    </tr>\n",
       "    <tr>\n",
       "      <th>7</th>\n",
       "      <td>Morning</td>\n",
       "      <td>11.666667</td>\n",
       "    </tr>\n",
       "    <tr>\n",
       "      <th>8</th>\n",
       "      <td>Morning</td>\n",
       "      <td>8.433333</td>\n",
       "    </tr>\n",
       "    <tr>\n",
       "      <th>13</th>\n",
       "      <td>Morning</td>\n",
       "      <td>6.783333</td>\n",
       "    </tr>\n",
       "    <tr>\n",
       "      <th>...</th>\n",
       "      <td>...</td>\n",
       "      <td>...</td>\n",
       "    </tr>\n",
       "    <tr>\n",
       "      <th>2993</th>\n",
       "      <td>Night</td>\n",
       "      <td>2.116667</td>\n",
       "    </tr>\n",
       "    <tr>\n",
       "      <th>2994</th>\n",
       "      <td>Morning</td>\n",
       "      <td>10.783333</td>\n",
       "    </tr>\n",
       "    <tr>\n",
       "      <th>2995</th>\n",
       "      <td>Night</td>\n",
       "      <td>1.250000</td>\n",
       "    </tr>\n",
       "    <tr>\n",
       "      <th>2997</th>\n",
       "      <td>Evening</td>\n",
       "      <td>19.566667</td>\n",
       "    </tr>\n",
       "    <tr>\n",
       "      <th>2998</th>\n",
       "      <td>Evening</td>\n",
       "      <td>20.900000</td>\n",
       "    </tr>\n",
       "  </tbody>\n",
       "</table>\n",
       "<p>1565 rows × 2 columns</p>\n",
       "</div>"
      ],
      "text/plain": [
       "     Time Segment  Time in Hours\n",
       "3           Night       0.516667\n",
       "5         Morning       8.066667\n",
       "7         Morning      11.666667\n",
       "8         Morning       8.433333\n",
       "13        Morning       6.783333\n",
       "...           ...            ...\n",
       "2993        Night       2.116667\n",
       "2994      Morning      10.783333\n",
       "2995        Night       1.250000\n",
       "2997      Evening      19.566667\n",
       "2998      Evening      20.900000\n",
       "\n",
       "[1565 rows x 2 columns]"
      ]
     },
     "execution_count": 176,
     "metadata": {},
     "output_type": "execute_result"
    }
   ],
   "source": [
    "df[['Time Segment','Time in Hours']]"
   ]
  },
  {
   "cell_type": "code",
   "execution_count": 180,
   "id": "2db297f3-74ce-4c68-aa40-e15c18558604",
   "metadata": {
    "tags": []
   },
   "outputs": [],
   "source": [
    "import matplotlib.pyplot as plt \n",
    "import seaborn as sns"
   ]
  },
  {
   "cell_type": "code",
   "execution_count": 182,
   "id": "4cde2d68-5384-4a7d-a1e5-98a78460acf0",
   "metadata": {
    "tags": []
   },
   "outputs": [
    {
     "name": "stderr",
     "output_type": "stream",
     "text": [
      "C:\\Users\\HP\\anaconda3\\Lib\\site-packages\\seaborn\\axisgrid.py:118: UserWarning: The figure layout has changed to tight\n",
      "  self._figure.tight_layout(*args, **kwargs)\n"
     ]
    },
    {
     "data": {
      "text/plain": [
       "<seaborn.axisgrid.FacetGrid at 0x17c1509e390>"
      ]
     },
     "execution_count": 182,
     "metadata": {},
     "output_type": "execute_result"
    },
    {
     "data": {
      "image/png": "[encoded data removed]",
      "text/plain": [
       "<Figure size 500x500 with 1 Axes>"
      ]
     },
     "metadata": {},
     "output_type": "display_data"
    }
   ],
   "source": [
    "sns.displot(df, x = 'Speed Limit (km/h)')"
   ]
  },
  {
   "cell_type": "code",
   "execution_count": 184,
   "id": "151c014c-2cf1-450b-8766-70baa73de6b1",
   "metadata": {
    "tags": []
   },
   "outputs": [
    {
     "data": {
      "image/png": "[encoded data removed]",
      "text/plain": [
       "<Figure size 640x480 with 1 Axes>"
      ]
     },
     "metadata": {},
     "output_type": "display_data"
    }
   ],
   "source": [
    "weather_counts = df['Weather Conditions'].value_counts()\n",
    "plt.pie(weather_counts, labels=weather_counts.index, autopct='%1.1f%%')\n",
    "plt.title('Weather Conditions Distribution')\n",
    "plt.show()"
   ]
  },
  {
   "cell_type": "code",
   "execution_count": 186,
   "id": "9ccd89b4-589a-4633-ac98-c219332071a6",
   "metadata": {},
   "outputs": [
    {
     "data": {
      "text/plain": [
       "<Axes: xlabel='Number of Vehicles Involved'>"
      ]
     },
     "execution_count": 186,
     "metadata": {},
     "output_type": "execute_result"
    },
    {
     "data": {
      "image/png": "[encoded data removed]",
      "text/plain": [
       "<Figure size 640x480 with 1 Axes>"
      ]
     },
     "metadata": {},
     "output_type": "display_data"
    }
   ],
   "source": [
    "sns.boxplot(df, x='Number of Vehicles Involved') "
   ]
  },
  {
   "cell_type": "code",
   "execution_count": 188,
   "id": "d8a89226-3bde-4031-8a13-ee24d914e54b",
   "metadata": {},
   "outputs": [
    {
     "data": {
      "text/plain": [
       "<Axes: xlabel='Driver Age'>"
      ]
     },
     "execution_count": 188,
     "metadata": {},
     "output_type": "execute_result"
    },
    {
     "data": {
      "image/png": "[encoded data removed]",
      "text/plain": [
       "<Figure size 640x480 with 1 Axes>"
      ]
     },
     "metadata": {},
     "output_type": "display_data"
    }
   ],
   "source": [
    "sns.boxplot(df, x='Driver Age') "
   ]
  },
  {
   "cell_type": "code",
   "execution_count": 194,
   "id": "98d9901a-10d7-4446-a326-ed9fd350b5fb",
   "metadata": {},
   "outputs": [
    {
     "data": {
      "text/html": [
       "<div>\n",
       "<style scoped>\n",
       "    .dataframe tbody tr th:only-of-type {\n",
       "        vertical-align: middle;\n",
       "    }\n",
       "\n",
       "    .dataframe tbody tr th {\n",
       "        vertical-align: top;\n",
       "    }\n",
       "\n",
       "    .dataframe thead th {\n",
       "        text-align: right;\n",
       "    }\n",
       "</style>\n",
       "<table border=\"1\" class=\"dataframe\">\n",
       "  <thead>\n",
       "    <tr style=\"text-align: right;\">\n",
       "      <th></th>\n",
       "      <th>City Name</th>\n",
       "      <th>Year</th>\n",
       "      <th>Time of Day</th>\n",
       "      <th>Accident Severity</th>\n",
       "      <th>Number of Vehicles Involved</th>\n",
       "      <th>Number of Casualties</th>\n",
       "      <th>Number of Fatalities</th>\n",
       "      <th>Speed Limit (km/h)</th>\n",
       "      <th>Driver Age</th>\n",
       "      <th>Time in Hours</th>\n",
       "      <th>...</th>\n",
       "      <th>Accident Location Details_Curve</th>\n",
       "      <th>Accident Location Details_Intersection</th>\n",
       "      <th>Accident Location Details_Straight Road</th>\n",
       "      <th>Weather Conditions_Foggy</th>\n",
       "      <th>Weather Conditions_Hazy</th>\n",
       "      <th>Weather Conditions_Rainy</th>\n",
       "      <th>Weather Conditions_Stormy</th>\n",
       "      <th>Time Segment_Evening</th>\n",
       "      <th>Time Segment_Morning</th>\n",
       "      <th>Time Segment_Night</th>\n",
       "    </tr>\n",
       "  </thead>\n",
       "  <tbody>\n",
       "    <tr>\n",
       "      <th>3</th>\n",
       "      <td>Lucknow</td>\n",
       "      <td>2020</td>\n",
       "      <td>0:31</td>\n",
       "      <td>Minor</td>\n",
       "      <td>3</td>\n",
       "      <td>10</td>\n",
       "      <td>5</td>\n",
       "      <td>76</td>\n",
       "      <td>34</td>\n",
       "      <td>0.516667</td>\n",
       "      <td>...</td>\n",
       "      <td>False</td>\n",
       "      <td>False</td>\n",
       "      <td>True</td>\n",
       "      <td>False</td>\n",
       "      <td>False</td>\n",
       "      <td>True</td>\n",
       "      <td>False</td>\n",
       "      <td>False</td>\n",
       "      <td>False</td>\n",
       "      <td>True</td>\n",
       "    </tr>\n",
       "    <tr>\n",
       "      <th>5</th>\n",
       "      <td>Unknown</td>\n",
       "      <td>2020</td>\n",
       "      <td>8:4</td>\n",
       "      <td>Serious</td>\n",
       "      <td>1</td>\n",
       "      <td>6</td>\n",
       "      <td>2</td>\n",
       "      <td>48</td>\n",
       "      <td>44</td>\n",
       "      <td>8.066667</td>\n",
       "      <td>...</td>\n",
       "      <td>False</td>\n",
       "      <td>False</td>\n",
       "      <td>False</td>\n",
       "      <td>False</td>\n",
       "      <td>False</td>\n",
       "      <td>False</td>\n",
       "      <td>True</td>\n",
       "      <td>False</td>\n",
       "      <td>True</td>\n",
       "      <td>False</td>\n",
       "    </tr>\n",
       "    <tr>\n",
       "      <th>7</th>\n",
       "      <td>Unknown</td>\n",
       "      <td>2022</td>\n",
       "      <td>11:40</td>\n",
       "      <td>Minor</td>\n",
       "      <td>3</td>\n",
       "      <td>1</td>\n",
       "      <td>5</td>\n",
       "      <td>62</td>\n",
       "      <td>42</td>\n",
       "      <td>11.666667</td>\n",
       "      <td>...</td>\n",
       "      <td>True</td>\n",
       "      <td>False</td>\n",
       "      <td>False</td>\n",
       "      <td>False</td>\n",
       "      <td>False</td>\n",
       "      <td>False</td>\n",
       "      <td>False</td>\n",
       "      <td>False</td>\n",
       "      <td>True</td>\n",
       "      <td>False</td>\n",
       "    </tr>\n",
       "    <tr>\n",
       "      <th>8</th>\n",
       "      <td>Jodhpur</td>\n",
       "      <td>2021</td>\n",
       "      <td>8:26</td>\n",
       "      <td>Fatal</td>\n",
       "      <td>3</td>\n",
       "      <td>7</td>\n",
       "      <td>1</td>\n",
       "      <td>35</td>\n",
       "      <td>53</td>\n",
       "      <td>8.433333</td>\n",
       "      <td>...</td>\n",
       "      <td>False</td>\n",
       "      <td>False</td>\n",
       "      <td>True</td>\n",
       "      <td>False</td>\n",
       "      <td>False</td>\n",
       "      <td>False</td>\n",
       "      <td>False</td>\n",
       "      <td>False</td>\n",
       "      <td>True</td>\n",
       "      <td>False</td>\n",
       "    </tr>\n",
       "    <tr>\n",
       "      <th>13</th>\n",
       "      <td>Unknown</td>\n",
       "      <td>2020</td>\n",
       "      <td>6:47</td>\n",
       "      <td>Serious</td>\n",
       "      <td>5</td>\n",
       "      <td>0</td>\n",
       "      <td>0</td>\n",
       "      <td>98</td>\n",
       "      <td>44</td>\n",
       "      <td>6.783333</td>\n",
       "      <td>...</td>\n",
       "      <td>False</td>\n",
       "      <td>False</td>\n",
       "      <td>False</td>\n",
       "      <td>True</td>\n",
       "      <td>False</td>\n",
       "      <td>False</td>\n",
       "      <td>False</td>\n",
       "      <td>False</td>\n",
       "      <td>True</td>\n",
       "      <td>False</td>\n",
       "    </tr>\n",
       "  </tbody>\n",
       "</table>\n",
       "<p>5 rows × 88 columns</p>\n",
       "</div>"
      ],
      "text/plain": [
       "   City Name  Year Time of Day Accident Severity  Number of Vehicles Involved  \\\n",
       "3    Lucknow  2020        0:31             Minor                            3   \n",
       "5    Unknown  2020         8:4           Serious                            1   \n",
       "7    Unknown  2022       11:40             Minor                            3   \n",
       "8    Jodhpur  2021        8:26             Fatal                            3   \n",
       "13   Unknown  2020        6:47           Serious                            5   \n",
       "\n",
       "    Number of Casualties  Number of Fatalities  Speed Limit (km/h)  \\\n",
       "3                     10                     5                  76   \n",
       "5                      6                     2                  48   \n",
       "7                      1                     5                  62   \n",
       "8                      7                     1                  35   \n",
       "13                     0                     0                  98   \n",
       "\n",
       "    Driver Age  Time in Hours  ...  Accident Location Details_Curve  \\\n",
       "3           34       0.516667  ...                            False   \n",
       "5           44       8.066667  ...                            False   \n",
       "7           42      11.666667  ...                             True   \n",
       "8           53       8.433333  ...                            False   \n",
       "13          44       6.783333  ...                            False   \n",
       "\n",
       "    Accident Location Details_Intersection  \\\n",
       "3                                    False   \n",
       "5                                    False   \n",
       "7                                    False   \n",
       "8                                    False   \n",
       "13                                   False   \n",
       "\n",
       "    Accident Location Details_Straight Road  Weather Conditions_Foggy  \\\n",
       "3                                      True                     False   \n",
       "5                                     False                     False   \n",
       "7                                     False                     False   \n",
       "8                                      True                     False   \n",
       "13                                    False                      True   \n",
       "\n",
       "    Weather Conditions_Hazy  Weather Conditions_Rainy  \\\n",
       "3                     False                      True   \n",
       "5                     False                     False   \n",
       "7                     False                     False   \n",
       "8                     False                     False   \n",
       "13                    False                     False   \n",
       "\n",
       "    Weather Conditions_Stormy  Time Segment_Evening  Time Segment_Morning  \\\n",
       "3                       False                 False                 False   \n",
       "5                        True                 False                  True   \n",
       "7                       False                 False                  True   \n",
       "8                       False                 False                  True   \n",
       "13                      False                 False                  True   \n",
       "\n",
       "    Time Segment_Night  \n",
       "3                 True  \n",
       "5                False  \n",
       "7                False  \n",
       "8                False  \n",
       "13               False  \n",
       "\n",
       "[5 rows x 88 columns]"
      ]
     },
     "execution_count": 194,
     "metadata": {},
     "output_type": "execute_result"
    }
   ],
   "source": [
    "dummies = pd.get_dummies(data = df, columns = ['State Name','Month','Day of Week','Vehicle Type Involved','Road Type','Road Condition','Lighting Conditions','Traffic Control Presence','Driver Gender','Driver License Status','Alcohol Involvement','Accident Location Details','Weather Conditions','Time Segment'],\n",
    "                  drop_first = True)\n",
    "\n",
    "dummies.head()"
   ]
  },
  {
   "cell_type": "markdown",
   "id": "438a5432-d175-44e1-ab49-4bb8e0dd84ad",
   "metadata": {},
   "source": [
    "Dropping \"City Name\" as it has 1119 unknown values."
   ]
  },
  {
   "cell_type": "code",
   "execution_count": 198,
   "id": "4394297d-e712-46bd-bc0e-2a4cdfe8e9db",
   "metadata": {
    "tags": []
   },
   "outputs": [],
   "source": [
    "dummies.drop(['City Name','Time of Day','Time in Hours'], axis = 1, inplace = True)"
   ]
  },
  {
   "cell_type": "code",
   "execution_count": 200,
   "id": "74669f41-3cdf-4fec-9736-16c4384a7f63",
   "metadata": {
    "tags": []
   },
   "outputs": [],
   "source": [
    "dummies['Accident Severity'].replace(['Minor', 'Serious','Fatal'], [0, 1, 2], inplace = True)"
   ]
  },
  {
   "cell_type": "code",
   "execution_count": 202,
   "id": "b0e23810-e31a-4ea9-a8a7-bec4dfb5df8c",
   "metadata": {
    "tags": []
   },
   "outputs": [],
   "source": [
    "from sklearn import preprocessing\n",
    "import matplotlib.pyplot as plt \n",
    "plt.rc(\"font\", size=14)\n",
    "from sklearn.linear_model import LogisticRegression\n",
    "from sklearn.model_selection import train_test_split\n",
    "import seaborn as sns\n",
    "sns.set(style=\"white\")\n",
    "sns.set(style=\"whitegrid\", color_codes=True)"
   ]
  },
  {
   "cell_type": "code",
   "execution_count": 204,
   "id": "4781ed81-0b9b-41dc-a636-672ec134320a",
   "metadata": {},
   "outputs": [],
   "source": [
    "X = dummies.drop('Accident Severity', axis=1)\n",
    "y = dummies['Accident Severity']"
   ]
  },
  {
   "cell_type": "code",
   "execution_count": 206,
   "id": "caaf9fed-dd81-4e9b-b757-341baa773f2c",
   "metadata": {
    "tags": []
   },
   "outputs": [],
   "source": [
    "X_train, X_test, y_train, y_test = train_test_split(X, y, test_size=0.3, random_state=42, stratify=y)"
   ]
  },
  {
   "cell_type": "code",
   "execution_count": 208,
   "id": "f4b12a54-c7d6-40ab-88b2-48b14fc46e1e",
   "metadata": {
    "tags": []
   },
   "outputs": [
    {
     "data": {
      "text/html": [
       "<style>#sk-container-id-2 {color: black;}#sk-container-id-2 pre{padding: 0;}#sk-container-id-2 div.sk-toggleable {background-color: white;}#sk-container-id-2 label.sk-toggleable__label {cursor: pointer;display: block;width: 100%;margin-bottom: 0;padding: 0.3em;box-sizing: border-box;text-align: center;}#sk-container-id-2 label.sk-toggleable__label-arrow:before {content: \"▸\";float: left;margin-right: 0.25em;color: #696969;}#sk-container-id-2 label.sk-toggleable__label-arrow:hover:before {color: black;}#sk-container-id-2 div.sk-estimator:hover label.sk-toggleable__label-arrow:before {color: black;}#sk-container-id-2 div.sk-toggleable__content {max-height: 0;max-width: 0;overflow: hidden;text-align: left;background-color: #f0f8ff;}#sk-container-id-2 div.sk-toggleable__content pre {margin: 0.2em;color: black;border-radius: 0.25em;background-color: #f0f8ff;}#sk-container-id-2 input.sk-toggleable__control:checked~div.sk-toggleable__content {max-height: 200px;max-width: 100%;overflow: auto;}#sk-container-id-2 input.sk-toggleable__control:checked~label.sk-toggleable__label-arrow:before {content: \"▾\";}#sk-container-id-2 div.sk-estimator input.sk-toggleable__control:checked~label.sk-toggleable__label {background-color: #d4ebff;}#sk-container-id-2 div.sk-label input.sk-toggleable__control:checked~label.sk-toggleable__label {background-color: #d4ebff;}#sk-container-id-2 input.sk-hidden--visually {border: 0;clip: rect(1px 1px 1px 1px);clip: rect(1px, 1px, 1px, 1px);height: 1px;margin: -1px;overflow: hidden;padding: 0;position: absolute;width: 1px;}#sk-container-id-2 div.sk-estimator {font-family: monospace;background-color: #f0f8ff;border: 1px dotted black;border-radius: 0.25em;box-sizing: border-box;margin-bottom: 0.5em;}#sk-container-id-2 div.sk-estimator:hover {background-color: #d4ebff;}#sk-container-id-2 div.sk-parallel-item::after {content: \"\";width: 100%;border-bottom: 1px solid gray;flex-grow: 1;}#sk-container-id-2 div.sk-label:hover label.sk-toggleable__label {background-color: #d4ebff;}#sk-container-id-2 div.sk-serial::before {content: \"\";position: absolute;border-left: 1px solid gray;box-sizing: border-box;top: 0;bottom: 0;left: 50%;z-index: 0;}#sk-container-id-2 div.sk-serial {display: flex;flex-direction: column;align-items: center;background-color: white;padding-right: 0.2em;padding-left: 0.2em;position: relative;}#sk-container-id-2 div.sk-item {position: relative;z-index: 1;}#sk-container-id-2 div.sk-parallel {display: flex;align-items: stretch;justify-content: center;background-color: white;position: relative;}#sk-container-id-2 div.sk-item::before, #sk-container-id-2 div.sk-parallel-item::before {content: \"\";position: absolute;border-left: 1px solid gray;box-sizing: border-box;top: 0;bottom: 0;left: 50%;z-index: -1;}#sk-container-id-2 div.sk-parallel-item {display: flex;flex-direction: column;z-index: 1;position: relative;background-color: white;}#sk-container-id-2 div.sk-parallel-item:first-child::after {align-self: flex-end;width: 50%;}#sk-container-id-2 div.sk-parallel-item:last-child::after {align-self: flex-start;width: 50%;}#sk-container-id-2 div.sk-parallel-item:only-child::after {width: 0;}#sk-container-id-2 div.sk-dashed-wrapped {border: 1px dashed gray;margin: 0 0.4em 0.5em 0.4em;box-sizing: border-box;padding-bottom: 0.4em;background-color: white;}#sk-container-id-2 div.sk-label label {font-family: monospace;font-weight: bold;display: inline-block;line-height: 1.2em;}#sk-container-id-2 div.sk-label-container {text-align: center;}#sk-container-id-2 div.sk-container {/* jupyter's `normalize.less` sets `[hidden] { display: none; }` but bootstrap.min.css set `[hidden] { display: none !important; }` so we also need the `!important` here to be able to override the default hidden behavior on the sphinx rendered scikit-learn.org. See: https://github.com/scikit-learn/scikit-learn/issues/21755 */display: inline-block !important;position: relative;}#sk-container-id-2 div.sk-text-repr-fallback {display: none;}</style><div id=\"sk-container-id-2\" class=\"sk-top-container\"><div class=\"sk-text-repr-fallback\"><pre>LogisticRegression(n_jobs=-1, solver=&#x27;newton-cg&#x27;)</pre><b>In a Jupyter environment, please rerun this cell to show the HTML representation or trust the notebook. <br />On GitHub, the HTML representation is unable to render, please try loading this page with nbviewer.org.</b></div><div class=\"sk-container\" hidden><div class=\"sk-item\"><div class=\"sk-estimator sk-toggleable\"><input class=\"sk-toggleable__control sk-hidden--visually\" id=\"sk-estimator-id-2\" type=\"checkbox\" checked><label for=\"sk-estimator-id-2\" class=\"sk-toggleable__label sk-toggleable__label-arrow\">LogisticRegression</label><div class=\"sk-toggleable__content\"><pre>LogisticRegression(n_jobs=-1, solver=&#x27;newton-cg&#x27;)</pre></div></div></div></div></div>"
      ],
      "text/plain": [
       "LogisticRegression(n_jobs=-1, solver='newton-cg')"
      ]
     },
     "execution_count": 208,
     "metadata": {},
     "output_type": "execute_result"
    }
   ],
   "source": [
    "logit = LogisticRegression(solver = 'newton-cg', n_jobs=-1)\n",
    "logit.fit(X_train, y_train)"
   ]
  },
  {
   "cell_type": "code",
   "execution_count": 209,
   "id": "bf55134a-00a5-4dba-bacf-886bcfb40649",
   "metadata": {
    "tags": []
   },
   "outputs": [],
   "source": [
    "pred_train = logit.predict(X_train)\n",
    "pred_test = logit.predict(X_test)"
   ]
  },
  {
   "cell_type": "code",
   "execution_count": 210,
   "id": "e760d10f-ea1c-49f7-8c94-6943a0a69697",
   "metadata": {
    "tags": []
   },
   "outputs": [
    {
     "name": "stdout",
     "output_type": "stream",
     "text": [
      "              precision    recall  f1-score   support\n",
      "\n",
      "           0       0.47      0.51      0.49       369\n",
      "           1       0.47      0.44      0.45       353\n",
      "           2       0.47      0.46      0.47       373\n",
      "\n",
      "    accuracy                           0.47      1095\n",
      "   macro avg       0.47      0.47      0.47      1095\n",
      "weighted avg       0.47      0.47      0.47      1095\n",
      "\n"
     ]
    }
   ],
   "source": [
    "from sklearn.metrics import classification_report\n",
    "\n",
    "print(classification_report(y_train, pred_train))"
   ]
  },
  {
   "cell_type": "code",
   "execution_count": 211,
   "id": "8e683c2b-83d4-4d07-8b14-d3b71b2aef9f",
   "metadata": {
    "tags": []
   },
   "outputs": [
    {
     "name": "stdout",
     "output_type": "stream",
     "text": [
      "              precision    recall  f1-score   support\n",
      "\n",
      "           0       0.37      0.35      0.36       158\n",
      "           1       0.34      0.34      0.34       151\n",
      "           2       0.31      0.34      0.32       161\n",
      "\n",
      "    accuracy                           0.34       470\n",
      "   macro avg       0.34      0.34      0.34       470\n",
      "weighted avg       0.34      0.34      0.34       470\n",
      "\n"
     ]
    }
   ],
   "source": [
    "print(classification_report(y_test, pred_test))"
   ]
  }
 ],
 "metadata": {
  "kernelspec": {
   "display_name": "Python 3 (ipykernel)",
   "language": "python",
   "name": "python3"
  },
  "language_info": {
   "codemirror_mode": {
    "name": "ipython",
    "version": 3
   },
   "file_extension": ".py",
   "mimetype": "text/x-python",
   "name": "python",
   "nbconvert_exporter": "python",
   "pygments_lexer": "ipython3",
   "version": "3.11.5"
  }
 },
 "nbformat": 4,
 "nbformat_minor": 5
}
